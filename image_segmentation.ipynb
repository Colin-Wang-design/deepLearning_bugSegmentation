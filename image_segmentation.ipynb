{
 "cells": [
  {
   "cell_type": "code",
   "execution_count": 1,
   "id": "536307f7-a7a8-40b8-a1e1-af8e45920ff2",
   "metadata": {},
   "outputs": [],
   "source": [
    "import os\n",
    "import tifffile as tiff\n",
    "import skimage.io as io\n",
    "from skimage.filters import threshold_otsu\n",
    "import numpy as np\n",
    "from os.path import join\n",
    "from glob import glob\n",
    "import sklearn.model_selection as skms\n",
    "from shutil import copy2"
   ]
  },
  {
   "cell_type": "code",
   "execution_count": 8,
   "id": "9ddb4cf0-a70a-4a7e-83f3-ab66abb79542",
   "metadata": {},
   "outputs": [],
   "source": [
    "# Define paths\n",
    "DATA_PATH = '/dtu/3d-imaging-center/courses/02510/groups/group_Kakapo/Project/Manual_label/labels/test'\n",
    "#TRAIN_IMAGE_DIR = os.path.join(DATA_PATH, 'train')"
   ]
  },
  {
   "cell_type": "code",
   "execution_count": 9,
   "id": "45d9ec9d-ff38-42c8-bbb8-49e177892617",
   "metadata": {},
   "outputs": [
    {
     "name": "stdout",
     "output_type": "stream",
     "text": [
      "Segmented image saved to /dtu/3d-imaging-center/courses/02510/groups/group_Kakapo/Project/Manual_label/labels/bcrick_2_033_label_segmented.tif\n",
      "Segmented image saved to /dtu/3d-imaging-center/courses/02510/groups/group_Kakapo/Project/Manual_label/labels/bcrick_2_031_label_segmented.tif\n"
     ]
    },
    {
     "name": "stderr",
     "output_type": "stream",
     "text": [
      "/tmp/ipykernel_18012/1840929632.py:7: UserWarning: /dtu/3d-imaging-center/courses/02510/groups/group_Kakapo/Project/Manual_label/labels/bcrick_2_033_label_segmented.tif is a low contrast image\n",
      "  io.imsave(save_path, segmented_img.astype(np.uint8) * 255)\n"
     ]
    }
   ],
   "source": [
    "# Function to load and segment an image, then save the segmented version\n",
    "def segment_and_save_image(image_path, save_dir):\n",
    "    img = tiff.imread(image_path)\n",
    "    otsu = threshold_otsu(img)\n",
    "    segmented_img = img > otsu\n",
    "    save_path = os.path.join(save_dir, os.path.basename(image_path).replace('.tif', '_segmented.tif'))\n",
    "    io.imsave(save_path, segmented_img.astype(np.uint8) * 255)\n",
    "    print(f\"Segmented image saved to {save_path}\")\n",
    "\n",
    "# Make sure the output directory exists\n",
    "output_dir = '/dtu/3d-imaging-center/courses/02510/groups/group_Kakapo/Project/Manual_label/labels/'\n",
    "os.makedirs(output_dir, exist_ok=True)\n",
    "\n",
    "# Process each image in the directory\n",
    "for filename in os.listdir(DATA_PATH):\n",
    "    if filename.endswith('.tif'):\n",
    "        file_path = os.path.join(DATA_PATH, filename)\n",
    "        segment_and_save_image(file_path, output_dir)"
   ]
  },
  {
   "cell_type": "code",
   "execution_count": 18,
   "id": "392824f8-8720-429a-b21e-342b3a1c6f30",
   "metadata": {},
   "outputs": [
    {
     "name": "stdout",
     "output_type": "stream",
     "text": [
      "Data successfully split and copied to respective folders.\n"
     ]
    }
   ],
   "source": [
    "# Load data\n",
    "DATA_PATH  = '/dtu/3d-imaging-center/courses/02510/groups/group_Kakapo/Project/'\n",
    "IMAGE_DIR = 'bug_256/AC/'\n",
    "LABEL_DIR = 'bug_256/'\n",
    "#-----Old testing images-----\n",
    "# TRAIN_IMAGE = 'train/bcrick_10_000.tif'\n",
    "# TRAIN_LABEL = 'train/bcrick_10_000_annotated.tif'\n",
    "# VAL_IMAGE = 'val/bcrick_10_001.tif'\n",
    "# VAL_LABEL = 'val/bcrick_10_001_annotated.tif'\n",
    "for split in ['train', 'val', 'test']:\n",
    "    os.makedirs(join(DATA_PATH, IMAGE_DIR, split), exist_ok=True)\n",
    "    os.makedirs(join(DATA_PATH, LABEL_DIR, split), exist_ok=True)\n",
    "\n",
    "# Load all file names\n",
    "image_files = sorted(glob(join(DATA_PATH, IMAGE_DIR, '*.tif')))\n",
    "label_files = sorted(glob(join(DATA_PATH, LABEL_DIR, '*.tif')))\n",
    "\n",
    "# Split data into train, val, test\n",
    "train_images, test_images, train_labels, test_labels = skms.train_test_split(\n",
    "    image_files, label_files, test_size=0.3, random_state=42)\n",
    "\n",
    "# Further split the test set into validation and actual test sets\n",
    "val_images, test_images, val_labels, test_labels = skms.train_test_split(\n",
    "    test_images, test_labels, test_size=0.5, random_state=42)\n",
    "\n",
    "#Function to copy files to their new location----inabled\n",
    "def copy_files(files, labels, split):\n",
    "    for img, lbl in zip(files, labels):\n",
    "        # Copy images\n",
    "        dest_img = join(DATA_PATH, IMAGE_DIR, split, os.path.basename(img))\n",
    "        copy2(img, dest_img)\n",
    "        # Copy labels\n",
    "        dest_lbl = join(DATA_PATH, LABEL_DIR, split, os.path.basename(lbl))\n",
    "        copy2(lbl, dest_lbl)\n",
    "\n",
    "# Copy files to their respective directories\n",
    "copy_files(train_images, train_labels, 'train')\n",
    "copy_files(val_images, val_labels, 'val')\n",
    "copy_files(test_images, test_labels, 'test')\n",
    "\n",
    "print(\"Data successfully split and copied to respective folders.\")"
   ]
  },
  {
   "cell_type": "code",
   "execution_count": null,
   "id": "c820f6fb-bd84-42a8-b889-a60c944ce9d9",
   "metadata": {},
   "outputs": [],
   "source": []
  }
 ],
 "metadata": {
  "kernelspec": {
   "display_name": "Python 3 (ipykernel)",
   "language": "python",
   "name": "python3"
  },
  "language_info": {
   "codemirror_mode": {
    "name": "ipython",
    "version": 3
   },
   "file_extension": ".py",
   "mimetype": "text/x-python",
   "name": "python",
   "nbconvert_exporter": "python",
   "pygments_lexer": "ipython3",
   "version": "3.11.6"
  }
 },
 "nbformat": 4,
 "nbformat_minor": 5
}
